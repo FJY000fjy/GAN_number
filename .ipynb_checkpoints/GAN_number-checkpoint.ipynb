{
 "cells": [
  {
   "cell_type": "code",
   "execution_count": 2,
   "id": "bf5cfdfb",
   "metadata": {},
   "outputs": [],
   "source": [
    "import  torch\n",
    "import  torch.nn as  nn\n",
    "import  torch.nn.functional  as  F\n",
    "import  torch.optim  as  optim\n",
    "import  numpy  as  np\n",
    "import  matplotlib.pyplot  as  plt\n",
    "import  torchvision\n",
    "from  torchvision  import  transforms\n",
    "from torchvision.transforms import ToTensor"
   ]
  },
  {
   "cell_type": "code",
   "execution_count": 3,
   "id": "87e9c0f6",
   "metadata": {},
   "outputs": [
    {
     "data": {
      "text/plain": [
       "'2.0.0+cu117'"
      ]
     },
     "execution_count": 3,
     "metadata": {},
     "output_type": "execute_result"
    }
   ],
   "source": [
    "torch.__version__"
   ]
  },
  {
   "cell_type": "markdown",
   "id": "b93bf12e",
   "metadata": {},
   "source": [
    "# 数据准备"
   ]
  },
  {
   "cell_type": "code",
   "execution_count": 4,
   "id": "45acf0cd",
   "metadata": {},
   "outputs": [],
   "source": [
    "#对数据归一化  (-1,1)\n",
    "transform=transforms.Compose([\n",
    "    transforms.ToTensor(),  \n",
    "    transforms.Normalize(0.5,0.5)\n",
    "])"
   ]
  },
  {
   "cell_type": "code",
   "execution_count": 5,
   "id": "1019e6c1",
   "metadata": {
    "scrolled": true
   },
   "outputs": [],
   "source": [
    "#加载内置数据集\n",
    "train_ds=torchvision.datasets.MNIST('data',\n",
    "                                      train=True,\n",
    "                                      transform=transform,\n",
    "                                      download=True                                   \n",
    "                                     )\n"
   ]
  },
  {
   "cell_type": "code",
   "execution_count": 6,
   "id": "6659c4ae",
   "metadata": {},
   "outputs": [],
   "source": [
    "dataloader=torch.utils.data.DataLoader(train_ds,batch_size=64,shuffle=True)"
   ]
  },
  {
   "cell_type": "code",
   "execution_count": 7,
   "id": "79229946",
   "metadata": {},
   "outputs": [],
   "source": [
    "imgs,_=next(iter(dataloader))"
   ]
  },
  {
   "cell_type": "code",
   "execution_count": 8,
   "id": "ae520464",
   "metadata": {},
   "outputs": [
    {
     "data": {
      "text/plain": [
       "torch.Size([64, 1, 28, 28])"
      ]
     },
     "execution_count": 8,
     "metadata": {},
     "output_type": "execute_result"
    }
   ],
   "source": [
    "imgs.shape"
   ]
  },
  {
   "cell_type": "markdown",
   "id": "144bc70d",
   "metadata": {},
   "source": [
    "# 定义生成器"
   ]
  },
  {
   "cell_type": "code",
   "execution_count": null,
   "id": "05757eee",
   "metadata": {},
   "outputs": [],
   "source": [
    "#输入是长度为100的噪声（正态分布随机数）\n",
    "#输出长度为（1，28，28）的图片\n",
    "#注：在生成对抗网络（GAN）中，噪声是一个随机向量或随机数据，通常被称为潜在空间向量（latent space vector）或噪声向量（noise vector）。"
   ]
  },
  {
   "cell_type": "code",
   "execution_count": 9,
   "id": "fbdf9f23",
   "metadata": {},
   "outputs": [],
   "source": [
    "class  Generator(nn.Module):\n",
    "    def  __init__(self):\n",
    "        super(Generator,self).__init__()\n",
    "        self.main=nn.Sequential(\n",
    "                                nn.Linear(100,256),\n",
    "                                nn.ReLU(),\n",
    "                                nn.Linear(256,512),\n",
    "                                nn.ReLU(),\n",
    "                                nn.Linear(512,28*28),\n",
    "                                nn.Tanh()\n",
    "        )\n",
    "    def  forward(self,x):    #表示长度为100的noise输入\n",
    "        img=self.main(x)\n",
    "        img=img.view(-1,28,28)\n",
    "        return  x"
   ]
  },
  {
   "cell_type": "markdown",
   "id": "85321b7d",
   "metadata": {},
   "source": [
    "# 定义判别器"
   ]
  },
  {
   "cell_type": "code",
   "execution_count": null,
   "id": "79acc778",
   "metadata": {},
   "outputs": [],
   "source": [
    "#输入为(1,28,28)的图片  输出为二分类的概率值，输出使用sigmoid激活0-1\n",
    "#BCEloss计算交叉熵损失\n",
    "\n",
    "# nn.LeakyReLU  f(x): x>0输出 0，如果x<0,输出 a*x a表示一个很小的斜率，比如0.1\n",
    "#判别器中一般推荐使用"
   ]
  },
  {
   "cell_type": "code",
   "execution_count": 10,
   "id": "469819f3",
   "metadata": {},
   "outputs": [],
   "source": [
    "class  Discriminator(nn.Module):\n",
    "    def  __init__(self):\n",
    "        super(Discriminator,self).__init__()\n",
    "        self.main=nn.Sequential(\n",
    "                                nn.Linear(28*28,512),\n",
    "                                nn.LeakyReLU(),\n",
    "                                nn.Linear(512,256),\n",
    "                                nn.ReLU(),\n",
    "                                nn.Linear(256,1),\n",
    "                                nn.Sigmoid()\n",
    "        )\n",
    "    def  forward(self,x):\n",
    "        x=x.view(-1,28*28)\n",
    "        x=self.main(x)\n",
    "        return  x \n",
    "        "
   ]
  },
  {
   "cell_type": "markdown",
   "id": "6d186e65",
   "metadata": {},
   "source": [
    "# 初始化模型、优化器及损失计算函数"
   ]
  },
  {
   "cell_type": "code",
   "execution_count": 11,
   "id": "8bda3a67",
   "metadata": {},
   "outputs": [],
   "source": [
    "device='cuda' if torch.cuda.is_available() else  'cpu'"
   ]
  },
  {
   "cell_type": "code",
   "execution_count": 12,
   "id": "c207bd88",
   "metadata": {},
   "outputs": [],
   "source": [
    "gen = Generator().to(device)\n",
    "dis=Discriminator().to(device)"
   ]
  },
  {
   "cell_type": "code",
   "execution_count": 13,
   "id": "dbbe5bbe",
   "metadata": {},
   "outputs": [],
   "source": [
    "d_optim=torch.optim.Adam(dis.parameters(),lr=0.0001)\n",
    "g_optim=torch.optim.Adam(gen.parameters(),lr=0.0001)"
   ]
  },
  {
   "cell_type": "code",
   "execution_count": 14,
   "id": "704fee7a",
   "metadata": {},
   "outputs": [],
   "source": [
    "loss_fn=torch.nn.BCELoss()"
   ]
  },
  {
   "cell_type": "markdown",
   "id": "cfb17b8e",
   "metadata": {},
   "source": [
    "#  绘图函数"
   ]
  },
  {
   "cell_type": "code",
   "execution_count": 15,
   "id": "1f84e9ef",
   "metadata": {},
   "outputs": [],
   "source": [
    "def  gen_img_plot(model,epoch,test_input):\n",
    "    prediction = np.squeeze(model(test_input).detach().cpu().numpy())\n",
    "    fig=plt.figure(figsize=(4,4))\n",
    "    for  i  in  range(16):\n",
    "        plt.subplot(4,4,i+1)\n",
    "        plt.imshow((prediction[i]+1)/2)#生成器原有范围是[-1,1],现在要将其放到[0,1]\n",
    "        plt.axis('off')\n",
    "    plt.show()        \n",
    "        "
   ]
  },
  {
   "cell_type": "code",
   "execution_count": 16,
   "id": "9a499c80",
   "metadata": {},
   "outputs": [],
   "source": [
    "test_input=torch.randn(16,100,device=device)#注：device不可省"
   ]
  },
  {
   "cell_type": "markdown",
   "id": "2c0e2803",
   "metadata": {},
   "source": [
    "# GAN的训练"
   ]
  },
  {
   "cell_type": "code",
   "execution_count": 17,
   "id": "04e8abc2",
   "metadata": {},
   "outputs": [],
   "source": [
    "D_loss=[]\n",
    "G_loss=[]"
   ]
  },
  {
   "cell_type": "code",
   "execution_count": null,
   "id": "5871bcdc",
   "metadata": {},
   "outputs": [],
   "source": [
    "#训练循环\n",
    "for  epoch  in  range(20):\n",
    "    d_epoch_loss=0\n",
    "    g_epoch_loss=0\n",
    "    count = len(dataloader)\n",
    "    for  step,(img,_)  in  enumerate(dataloader):\n",
    "        img=img.to(device)\n",
    "        size=img.size(0)\n",
    "        random_noise=torch.randn(size,100,device)\n",
    "        #判别器损失的构建和优化\n",
    "        d_optim.zero_grad()\n",
    "        real_output=dis(img) #对判别器输入真实图片,real_output对真实图片的预测结果\n",
    "        d_real_loss=loss_fn(real_output,\n",
    "                            torch.ones_like(real_output),\n",
    "                            device=device)   #判别器在真实图像上的损失(d_real_loss)\n",
    "        d_real_loss.backward()\n",
    "\n",
    "        gen_img=gen(random_noise)\n",
    "        #注（重要）：此时是优化判别器，无需优化生成器，所以此处需要detach()来截断梯度\n",
    "        fake_output=dis(gen_img.detach())     #判别器输入生成的图片，fake_output对生成图片的预测\n",
    "        d_fake_loss=loss_fn(fake_output,\n",
    "                           torch.zeros_like(fake_output),\n",
    "                           device=device)   #判别器在生成图像上的损失(d_fake_loss)\n",
    "        d_fake_loss.backward()\n",
    "        \n",
    "        d_loss=d_real_loss+d_fake_loss#总的判别器损失为真实图像上的损失加生成图像上的损失\n",
    "        \n",
    "        d_optim.step()\n",
    "        \n",
    "        #生成器损失的构建和优化\n",
    "        \n",
    "        g_optim.zero_grad()#将生成器所有的梯度归0\n",
    "        \n",
    "        fake_output=dis(gen_img)\n",
    "        g_loss=loss_fn(fake_output,\n",
    "                       torch.ones_like(fake_output),\n",
    "                       device=device      \n",
    "                        )#作为生成器，我们希望fake_output被判定为1\n",
    "        g_loss.backward()\n",
    "        g_optim.step()\n",
    "        \n",
    "        #对每个epoch的loss进行累加\n",
    "        with  torch.no_grad():\n",
    "            d_epoch_loss+=d_loss\n",
    "            g_epoch_loss+=g_loss\n",
    "            "
   ]
  }
 ],
 "metadata": {
  "kernelspec": {
   "display_name": "Python 3 (ipykernel)",
   "language": "python",
   "name": "python3"
  },
  "language_info": {
   "codemirror_mode": {
    "name": "ipython",
    "version": 3
   },
   "file_extension": ".py",
   "mimetype": "text/x-python",
   "name": "python",
   "nbconvert_exporter": "python",
   "pygments_lexer": "ipython3",
   "version": "3.9.13"
  }
 },
 "nbformat": 4,
 "nbformat_minor": 5
}
